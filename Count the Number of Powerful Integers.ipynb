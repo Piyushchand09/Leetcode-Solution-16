{
 "cells": [
  {
   "cell_type": "code",
   "execution_count": null,
   "id": "929ea50d",
   "metadata": {
    "vscode": {
     "languageId": "plaintext"
    }
   },
   "outputs": [],
   "source": [
    "# Count the Number of Powerful Integers\n",
    "class Solution:\n",
    "    def numberOfPowerfulInt(self, start: int, finish: int, limit: int, s: str) -> int:\n",
    "        def count(num):\n",
    "            if int(s)>num:\n",
    "                return 0\n",
    "            num=str(num)\n",
    "            n=len(num)\n",
    "            m=len(s)\n",
    "            \n",
    "            # Assuming 'cache' is intended to be a decorator, you'll need to import it.\n",
    "            # If you have a custom 'cache' function, make sure it's defined before this point.\n",
    "            # from functools import cache \n",
    "            # Or, if using lru_cache\n",
    "            from functools import lru_cache\n",
    "            @lru_cache(maxsize=None)  # Using lru_cache as a replacement for the undefined 'cache'\n",
    "            \n",
    "            def dfs(i, tight, suffix_match):\n",
    "                if i==n:\n",
    "                    return 1 if suffix_match else 0\n",
    "                upperbound = int(num[i]) if tight else limit\n",
    "                res=0\n",
    "                for digit in range(upperbound+1):\n",
    "                    if digit > limit:\n",
    "                        break\n",
    "                    new_tight=tight and digit==upperbound\n",
    "                    new_suffix_match=suffix_match\n",
    "                    if i>=n-m:\n",
    "                        suffix_pos = i - (n-m)\n",
    "                        if str(digit)!=s[suffix_pos]:\n",
    "                            new_suffix_match=False\n",
    "                    res+=dfs(i+1,new_tight,new_suffix_match)\n",
    "                return res\n",
    "            ans=dfs(0,True,True)\n",
    "            dfs.cache_clear()  # Clear the cache after each call to count\n",
    "            return ans\n",
    "        return max(count(finish)-count(start-1),0)"
   ]
  }
 ],
 "metadata": {
  "kernelspec": {
   "display_name": "Python 3 (ipykernel)",
   "language": "python",
   "name": "python3"
  },
  "language_info": {
   "codemirror_mode": {
    "name": "ipython",
    "version": 3
   },
   "file_extension": ".py",
   "mimetype": "text/x-python",
   "name": "python",
   "nbconvert_exporter": "python",
   "pygments_lexer": "ipython3",
   "version": "3.12.4"
  }
 },
 "nbformat": 4,
 "nbformat_minor": 5
}
